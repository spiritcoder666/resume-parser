{
  "cells": [
    {
      "cell_type": "markdown",
      "metadata": {
        "id": "view-in-github",
        "colab_type": "text"
      },
      "source": [
        "<a href=\"https://colab.research.google.com/github/sachitmunjal/Resume-Parser/blob/main/Project_Parser.ipynb\" target=\"_parent\"><img src=\"https://colab.research.google.com/assets/colab-badge.svg\" alt=\"Open In Colab\"/></a>"
      ]
    },
    {
      "cell_type": "markdown",
      "metadata": {
        "id": "oAcB1qf7D7wU"
      },
      "source": [
        "# **RESUME** **PARSER**"
      ]
    },
    {
      "cell_type": "code",
      "execution_count": null,
      "metadata": {
        "colab": {
          "base_uri": "https://localhost:8080/"
        },
        "id": "K7WN3z2Mva-M",
        "outputId": "331052d5-0ef3-4b01-8480-2bfef37ce88a"
      },
      "outputs": [
        {
          "output_type": "stream",
          "name": "stdout",
          "text": [
            "Looking in indexes: https://pypi.org/simple, https://us-python.pkg.dev/colab-wheels/public/simple/\n",
            "Requirement already satisfied: spacy==2.1.9 in /usr/local/lib/python3.8/dist-packages (2.1.9)\n",
            "Requirement already satisfied: plac<1.0.0,>=0.9.6 in /usr/local/lib/python3.8/dist-packages (from spacy==2.1.9) (0.9.6)\n",
            "Requirement already satisfied: preshed<2.1.0,>=2.0.1 in /usr/local/lib/python3.8/dist-packages (from spacy==2.1.9) (2.0.1)\n",
            "Requirement already satisfied: thinc<7.1.0,>=7.0.8 in /usr/local/lib/python3.8/dist-packages (from spacy==2.1.9) (7.0.8)\n",
            "Requirement already satisfied: blis<0.3.0,>=0.2.2 in /usr/local/lib/python3.8/dist-packages (from spacy==2.1.9) (0.2.4)\n",
            "Requirement already satisfied: requests<3.0.0,>=2.13.0 in /usr/local/lib/python3.8/dist-packages (from spacy==2.1.9) (2.23.0)\n",
            "Requirement already satisfied: numpy>=1.15.0 in /usr/local/lib/python3.8/dist-packages (from spacy==2.1.9) (1.21.6)\n",
            "Requirement already satisfied: srsly<1.1.0,>=0.0.6 in /usr/local/lib/python3.8/dist-packages (from spacy==2.1.9) (1.0.6)\n",
            "Requirement already satisfied: wasabi<1.1.0,>=0.2.0 in /usr/local/lib/python3.8/dist-packages (from spacy==2.1.9) (0.10.1)\n",
            "Requirement already satisfied: murmurhash<1.1.0,>=0.28.0 in /usr/local/lib/python3.8/dist-packages (from spacy==2.1.9) (1.0.9)\n",
            "Requirement already satisfied: cymem<2.1.0,>=2.0.2 in /usr/local/lib/python3.8/dist-packages (from spacy==2.1.9) (2.0.7)\n",
            "Requirement already satisfied: chardet<4,>=3.0.2 in /usr/local/lib/python3.8/dist-packages (from requests<3.0.0,>=2.13.0->spacy==2.1.9) (3.0.4)\n",
            "Requirement already satisfied: urllib3!=1.25.0,!=1.25.1,<1.26,>=1.21.1 in /usr/local/lib/python3.8/dist-packages (from requests<3.0.0,>=2.13.0->spacy==2.1.9) (1.24.3)\n",
            "Requirement already satisfied: idna<3,>=2.5 in /usr/local/lib/python3.8/dist-packages (from requests<3.0.0,>=2.13.0->spacy==2.1.9) (2.10)\n",
            "Requirement already satisfied: certifi>=2017.4.17 in /usr/local/lib/python3.8/dist-packages (from requests<3.0.0,>=2.13.0->spacy==2.1.9) (2022.9.24)\n",
            "Requirement already satisfied: tqdm<5.0.0,>=4.10.0 in /usr/local/lib/python3.8/dist-packages (from thinc<7.1.0,>=7.0.8->spacy==2.1.9) (4.64.1)\n"
          ]
        }
      ],
      "source": [
        "# Installing the spacy library\n",
        "!pip install spacy==2.1.9"
      ]
    },
    {
      "cell_type": "code",
      "source": [],
      "metadata": {
        "id": "iCRD2iAo4Rad"
      },
      "execution_count": null,
      "outputs": []
    },
    {
      "cell_type": "code",
      "source": [],
      "metadata": {
        "id": "51Jna2pgFawS"
      },
      "execution_count": null,
      "outputs": []
    },
    {
      "cell_type": "code",
      "execution_count": null,
      "metadata": {
        "id": "03PST-QjwSHD"
      },
      "outputs": [],
      "source": [
        "# Importing the required libraries and functions\n",
        "\n",
        "import json\n",
        "import spacy\n",
        "import random\n",
        "import math\n",
        "import logging\n",
        "import pandas as pd\n",
        "\n",
        "# Importing functions from spacy\n",
        "from spacy.gold import GoldParse\n",
        "from spacy.scorer import Scorer\n",
        "\n",
        "# Importing functions from sklearn\n",
        "from sklearn.metrics import classification_report\n",
        "from sklearn.metrics import precision_recall_fscore_support\n",
        "from sklearn.metrics import accuracy_score\n",
        "from sklearn.metrics.pairwise import cosine_similarity\n",
        "from sklearn.feature_extraction.text import CountVectorizer\n",
        "from sklearn.model_selection import train_test_split\n",
        "\n",
        "import warnings\n",
        "warnings.filterwarnings('ignore')"
      ]
    },
    {
      "cell_type": "markdown",
      "metadata": {
        "id": "qiawLQ2tFJ48"
      },
      "source": [
        "Splitting the dataset into training and testing data"
      ]
    },
    {
      "cell_type": "code",
      "execution_count": null,
      "metadata": {
        "id": "PWruM-VYwYqs"
      },
      "outputs": [],
      "source": [
        "with open('/content/Entity Recognition in Resumes.json') as f:\n",
        "    lines = f.readlines()\n",
        "\n",
        "# Taking 70% of the data for training and 30% for testing    \n",
        "train, test = train_test_split(lines, test_size=0.3)\n",
        "\n",
        "# Creating training_data.json \n",
        "with open(\"training_data.json\", \"w\") as outfile:\n",
        "    for obj in train:\n",
        "        outfile.write(obj)\n",
        "\n",
        "# Creating testing_data.json \n",
        "with open(\"testing_data.json\", \"w\") as outfile:\n",
        "    for obj in test:\n",
        "        outfile.write(obj)"
      ]
    },
    {
      "cell_type": "markdown",
      "metadata": {
        "id": "qepocezBTJlx"
      },
      "source": [
        "Training the dataset"
      ]
    },
    {
      "cell_type": "code",
      "execution_count": null,
      "metadata": {
        "id": "R2RugeZeNstF"
      },
      "outputs": [],
      "source": [
        "# Funtion to convert the resumes to format such that the spacy library can process it.\n",
        "def convert_json_to_py(JSON_FilePath):\n",
        "  \n",
        "    try:\n",
        "        #training_data list to store the training data in form of python objects from json objects\n",
        "        training_data = []\n",
        "        #list to store all the resumes\n",
        "        lines=[]\n",
        "        #Opening the json prepare python processable training data\n",
        "        with open(JSON_FilePath, 'r') as file:\n",
        "            lines = file.readlines()\n",
        "\n",
        "        # Iterating the json line objects to convert into python readable format\n",
        "        for line in lines:\n",
        "            # Converting json object to dictionary\n",
        "            data = json.loads(line)\n",
        "            # list to store the content of the resume\n",
        "            text = data['content']\n",
        "            # list to store the entities \n",
        "            entities = []\n",
        "\n",
        "            # Iterating the annotations \n",
        "            for annotation in data['annotation']:\n",
        "                point = annotation['points'][0]    # Stores contents of points in annotatation\n",
        "                labels = annotation['label']    # Stores the labels (Skills, Education etc.)   \n",
        "\n",
        "                # If type(label) is not list, then the label is converted to list\n",
        "                if not isinstance(labels, list):\n",
        "                    labels = [labels]\n",
        "                \n",
        "                for label in labels:\n",
        "                    #json indices are both inclusive [start, end] but spacy is not [start, end)\n",
        "                    entities.append((point['start'], point['end'] + 1 ,label))\n",
        "\n",
        "            # Appending the content and entities\n",
        "            training_data.append((text, {\"entities\" : entities}))\n",
        "        # returns the python object training data\n",
        "        return training_data\n",
        "\n",
        "    # handling the exception case\n",
        "    except Exception as e:\n",
        "        logging.exception(\"Unable to process \" + JSON_FilePath + \"\\n\" + \"error = \" + str(e))\n",
        "        return None"
      ]
    },
    {
      "cell_type": "markdown",
      "source": [
        "# New Section"
      ],
      "metadata": {
        "id": "hkP5FVmn5z2E"
      }
    },
    {
      "cell_type": "code",
      "source": [],
      "metadata": {
        "id": "Y2cWhsd_5Dvu"
      },
      "execution_count": null,
      "outputs": []
    },
    {
      "cell_type": "code",
      "execution_count": null,
      "metadata": {
        "id": "_CnJQcpADMX5"
      },
      "outputs": [],
      "source": [
        "#training the model\n",
        "def train_spacy():\n",
        "    # extracting train data from json by using json to py converter function\n",
        "    TRAIN_DATA = convert_json_to_py(\"/content/training_data.json\")\n",
        "    # creating blank Language class using the spacy library for nlp \n",
        "    # basically it creates the built-in pipeline components and adds them to the pipeline\n",
        "    # nlp.create_pipe works for built-ins that are registered with spaCy\n",
        "    nlp = spacy.blank('en') \n",
        "    # if we do not have named entity recognition i.e the heart of our prject resume parser then we add it's pipeline as well\n",
        "    #pipelines are used because nlp is an area of AI but to make it work efficiently with ml we need the pipeline\n",
        "    if 'ner' not in nlp.pipe_names:\n",
        "        # creating ner pipeline to use nlp on ml models effectively\n",
        "        ner = nlp.create_pipe('ner')\n",
        "        nlp.add_pipe(ner, last=True)\n",
        "    # add labels\n",
        "    for _, annotations in TRAIN_DATA:\n",
        "         for ent in annotations.get('entities'):\n",
        "            # entities contains 3 things basically - (0-> labels,1-> point sof the values of the label, 3-> the values in text format)\n",
        "            # so we are here adding the labels for the training in string format\n",
        "            ner.add_label(ent[2])\n",
        "\n",
        "    # get names of other pipes to disable them during training, so that we only use the ner component as it is only what is needed\n",
        "    other_pipes = [pipe for pipe in nlp.pipe_names if pipe != 'ner']\n",
        "    #disabling other components and then beginnig the training on the nlp class with ner\n",
        "    with nlp.disable_pipes(*other_pipes):  \n",
        "        #training begins :), nlp model's initialised by begin_training function, optimizer stores the model in it\n",
        "        optimizer = nlp.begin_training()\n",
        "        for itn in range(10):\n",
        "            # data shown by shuffling the values to prevent memorizing and then getting biased\n",
        "            print(\"Starting iteration \" + str(itn))\n",
        "            random.shuffle(TRAIN_DATA)\n",
        "            losses = {}\n",
        "            # text - > input variable, annotations -> output variable\n",
        "            for text, annotations in TRAIN_DATA:\n",
        "              try:\n",
        "                #updating the function according to the data values shown\n",
        "                nlp.update(\n",
        "                    [text],  # batch of texts\n",
        "                    [annotations],  # batch of annotations\n",
        "                    drop=0.2,  # dropout - make it harder to memorise data\n",
        "                    sgd=optimizer,  # callable to update weights\n",
        "                    losses=losses)\n",
        "              except Exception as error:\n",
        "                  # print(error)\n",
        "                  #print(losses)\n",
        "                  continue\n",
        "            print(losses)\n",
        "\n",
        "    #test the model and evaluate it\n",
        "    examples = convert_json_to_py(\"/content/testing_data.json\")\n",
        "    tp=0\n",
        "    tr=0\n",
        "    tf=0\n",
        "    ta=0\n",
        "    c=0  \n",
        "    for text,annot in examples:\n",
        "        f=open(\"resume\"+str(c)+\".txt\",\"w\")\n",
        "        # doc_to_test -> document to test, putting only the text attribute in the model for named entities prediction\n",
        "        doc_to_test=nlp(text)\n",
        "        #dictionary d to store the entiy values obtained after running the model\n",
        "        d={}\n",
        "        #.ents - > entities, .label_  -> labels\n",
        "        for ent in doc_to_test.ents:\n",
        "            #ent.label_ -> label name eg- skill, ent.text-> dtected skill from the model eg-> Machine Learning\n",
        "            d[ent.label_]=[]\n",
        "        for ent in doc_to_test.ents:\n",
        "            d[ent.label_].append(ent.text)\n",
        "\n",
        "        for i in set(d.keys()):\n",
        "            f.write(\"\\n\\n\")\n",
        "            f.write(i +\":\"+\"\\n\")\n",
        "            for j in set(d[i]):\n",
        "                f.write(j.replace('\\n','')+\"\\n\")\n",
        "        d={}\n",
        "        for ent in doc_to_test.ents:\n",
        "            d[ent.label_]=[0,0,0,0,0,0]\n",
        "        for ent in doc_to_test.ents:\n",
        "            doc_gold_text= nlp.make_doc(text)\n",
        "            gold = GoldParse(doc_gold_text, entities=annot.get(\"entities\"))\n",
        "            y_true = [ent.label_ if ent.label_ in x else 'Not '+ent.label_ for x in gold.ner]\n",
        "            y_pred = [x.ent_type_ if x.ent_type_ ==ent.label_ else 'Not '+ent.label_ for x in doc_to_test]  \n",
        "            if(d[ent.label_][0]==0):\n",
        "                #f.write(\"For Entity \"+ent.label_+\"\\n\")   \n",
        "                #f.write(classification_report(y_true, y_pred)+\"\\n\")\n",
        "                (p,r,f,s)= precision_recall_fscore_support(y_true,y_pred,average='weighted')\n",
        "                a=accuracy_score(y_true,y_pred)\n",
        "                d[ent.label_][0]=1\n",
        "                d[ent.label_][1]+=p\n",
        "                d[ent.label_][2]+=r\n",
        "                d[ent.label_][3]+=f\n",
        "                d[ent.label_][4]+=a\n",
        "                d[ent.label_][5]+=1\n",
        "        c+=1\n",
        "    for i in d:\n",
        "        print(\"\\n For Entity \"+i+\"\\n\")\n",
        "        print(\"Accuracy : \"+str((d[i][4]/d[i][5])*100)+\"%\")\n",
        "        print(\"Precision : \"+str(d[i][1]/d[i][5]))\n",
        "        print(\"Recall : \"+str(d[i][2]/d[i][5]))\n",
        "        print(\"F-score : \"+str(d[i][3]/d[i][5]))"
      ]
    },
    {
      "cell_type": "code",
      "execution_count": null,
      "metadata": {
        "id": "zU6jS9JsN6D4",
        "colab": {
          "base_uri": "https://localhost:8080/"
        },
        "outputId": "4ac486ce-1e32-4cb8-d0c7-c03dfbdd1b75"
      },
      "outputs": [
        {
          "output_type": "stream",
          "name": "stdout",
          "text": [
            "Starting iteration 0\n",
            "{'ner': 18894.05935380143}\n",
            "Starting iteration 1\n",
            "{'ner': 11471.082485291567}\n",
            "Starting iteration 2\n",
            "{'ner': 10527.813256252683}\n",
            "Starting iteration 3\n",
            "{'ner': 8654.825265563624}\n",
            "Starting iteration 4\n",
            "{'ner': 10377.452781661481}\n",
            "Starting iteration 5\n",
            "{'ner': 6542.791312447571}\n",
            "Starting iteration 6\n",
            "{'ner': 6374.255223468657}\n",
            "Starting iteration 7\n",
            "{'ner': 5950.349536865915}\n",
            "Starting iteration 8\n",
            "{'ner': 5791.696513799835}\n",
            "Starting iteration 9\n",
            "{'ner': 6087.136466322255}\n",
            "\n",
            " For Entity Name\n",
            "\n",
            "Accuracy : 96.15384615384616%\n",
            "Precision : 0.963076923076923\n",
            "Recall : 0.9615384615384616\n",
            "F-score : 0.955520669806384\n",
            "\n",
            " For Entity Location\n",
            "\n",
            "Accuracy : 96.15384615384616%\n",
            "Precision : 0.9630467571644042\n",
            "Recall : 0.9615384615384616\n",
            "F-score : 0.9523076923076922\n",
            "\n",
            " For Entity Email Address\n",
            "\n",
            "Accuracy : 100.0%\n",
            "Precision : 1.0\n",
            "Recall : 1.0\n",
            "F-score : 1.0\n",
            "\n",
            " For Entity Designation\n",
            "\n",
            "Accuracy : 100.0%\n",
            "Precision : 1.0\n",
            "Recall : 1.0\n",
            "F-score : 1.0\n",
            "\n",
            " For Entity Companies worked at\n",
            "\n",
            "Accuracy : 100.0%\n",
            "Precision : 1.0\n",
            "Recall : 1.0\n",
            "F-score : 1.0\n",
            "\n",
            " For Entity Degree\n",
            "\n",
            "Accuracy : 100.0%\n",
            "Precision : 1.0\n",
            "Recall : 1.0\n",
            "F-score : 1.0\n",
            "\n",
            " For Entity College Name\n",
            "\n",
            "Accuracy : 100.0%\n",
            "Precision : 1.0\n",
            "Recall : 1.0\n",
            "F-score : 1.0\n"
          ]
        }
      ],
      "source": [
        "train_spacy()"
      ]
    },
    {
      "cell_type": "markdown",
      "metadata": {
        "id": "bULQ_ngOOHia"
      },
      "source": [
        "# Matching the resumes with the job description"
      ]
    },
    {
      "cell_type": "code",
      "execution_count": null,
      "metadata": {
        "id": "3U3ZgO0E4b0N"
      },
      "outputs": [],
      "source": [
        "# Function to match the resume with job description provided\n",
        "def resumeMatching(percent_matching):\n",
        "    # Iterating through all the resumes in test\n",
        "    for i in range(len(test)):\n",
        "        resume = open('resume' + str(i) + '.txt').read()\n",
        "        job_description = open('job_description.txt').read()\n",
        "        \n",
        "        # A list of text\n",
        "        text = [resume, job_description]\n",
        "\n",
        "        cv = CountVectorizer()\n",
        "        count_matrix = cv.fit_transform(text)\n",
        "\n",
        "        #get the match percentage\n",
        "        matchPercentage = cosine_similarity(count_matrix)[0][1] * 100\n",
        "        matchPercentage = round(matchPercentage, 2) # round to two decimal\n",
        "        percent_matching.append(matchPercentage)\n",
        "    return percent_matching"
      ]
    },
    {
      "cell_type": "code",
      "execution_count": null,
      "metadata": {
        "id": "lA62s0mDODWr"
      },
      "outputs": [],
      "source": [
        "percent_matching = resumeMatching([])\n",
        "# Creating a dataframe to print the result\n",
        "matching_percent = pd.DataFrame(percent_matching)\n",
        "matching_percent.rename(columns = {0: \"% Matching\"})"
      ]
    }
  ],
  "metadata": {
    "colab": {
      "provenance": [],
      "toc_visible": true,
      "include_colab_link": true
    },
    "kernelspec": {
      "display_name": "Python 3",
      "name": "python3"
    },
    "language_info": {
      "name": "python"
    }
  },
  "nbformat": 4,
  "nbformat_minor": 0
}
